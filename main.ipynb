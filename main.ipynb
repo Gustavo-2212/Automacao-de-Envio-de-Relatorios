{
  "nbformat": 4,
  "nbformat_minor": 0,
  "metadata": {
    "colab": {
      "name": "main.ipynb",
      "provenance": [],
      "include_colab_link": true
    },
    "kernelspec": {
      "name": "python3",
      "display_name": "Python 3"
    },
    "language_info": {
      "name": "python"
    }
  },
  "cells": [
    {
      "cell_type": "markdown",
      "metadata": {
        "id": "view-in-github",
        "colab_type": "text"
      },
      "source": [
        "<a href=\"https://colab.research.google.com/github/Gustavo-2212/Automacao-de-Envio-de-Relatorios/blob/main/main.ipynb\" target=\"_parent\"><img src=\"https://colab.research.google.com/assets/colab-badge.svg\" alt=\"Open In Colab\"/></a>"
      ]
    },
    {
      "cell_type": "code",
      "source": [
        "import pandas as pd\n",
        "\n",
        "bd = pd.read_excel(r'/content/drive/MyDrive/Aula 01/Vendas.xlsx')"
      ],
      "metadata": {
        "id": "hiKXTdWXKoqM"
      },
      "execution_count": 4,
      "outputs": []
    },
    {
      "cell_type": "code",
      "source": [
        "from google.colab import drive\n",
        "drive.mount('/content/drive')"
      ],
      "metadata": {
        "id": "gj248zfDXbbf"
      },
      "execution_count": null,
      "outputs": []
    },
    {
      "cell_type": "code",
      "source": [
        "display(bd)"
      ],
      "metadata": {
        "id": "7gY7K8ExLRz5"
      },
      "execution_count": null,
      "outputs": []
    },
    {
      "cell_type": "code",
      "source": [
        "# Calculando o faturamento por loja\n",
        "faturamento = bd[['ID Loja', 'Valor Final']].groupby('ID Loja').sum()\n",
        "\n",
        "# Ordenando os valores\n",
        "faturamento = faturamento.sort_values(by='Valor Final', ascending=False)"
      ],
      "metadata": {
        "id": "v4fP9xZzLlyo"
      },
      "execution_count": 6,
      "outputs": []
    },
    {
      "cell_type": "code",
      "source": [
        "# Calculando e organizando os dados da quantidade vendida por loja\n",
        "qntLoja = bd[['ID Loja', 'Quantidade']].groupby('ID Loja').sum()\n",
        "qntLoja = qntLoja.sort_values(by='ID Loja', ascending=False)"
      ],
      "metadata": {
        "id": "FrVEUuYiMvpO"
      },
      "execution_count": 7,
      "outputs": []
    },
    {
      "cell_type": "code",
      "source": [
        "# Calculo do Ticket Médio por Loja TM = Faturamento(Loja) / Quantidade(Loja)\n",
        "TM = (faturamento['Valor Final'] / qntLoja['Quantidade']).to_frame()\n",
        "TM = TM.rename(columns = {0: 'Ticket Medio'})\n",
        "TM = TM.sort_values(by='Ticket Medio', ascending=False)"
      ],
      "metadata": {
        "id": "QTHTqOngNwrf"
      },
      "execution_count": 8,
      "outputs": []
    },
    {
      "cell_type": "code",
      "source": [
        "# Função para envio de email com o relatório\n",
        "import smtplib\n",
        "import email.message\n",
        "\n",
        "def enviarEmail(relatorio, loja, senha, emailDestino, emailEmissor):\n",
        "  \n",
        "  server = smtplib.SMTP('smtp.gmail.com:587')\n",
        "  email_content = f'''\n",
        "    <p>Prezado, segue o relatório da loja {loja}<p>\n",
        "    {relatorio.to_html()}\n",
        "    <p>Obrigado<p>\n",
        "  '''\n",
        "\n",
        "  msg = email.message.Message()\n",
        "  msg['Subject'] = f'Relatório Loja: {loja}'\n",
        "\n",
        "  msg['From'] = emailEmissor\n",
        "  msg['To'] = emailDestino\n",
        "\n",
        "  # O ideal é que você crie area para que o dono do email remetente informe sua senha e email\n",
        "  #senha = '...'\n",
        "  #password = senha\n",
        "  msg.add_header('Content-Type', 'text/html')\n",
        "  msg.set_payload(email_content)\n",
        "\n",
        "  s = smtplib.SMTP('smtp.gmail.com: 587')\n",
        "  s.starttls()\n",
        "\n",
        "  s.login(msg['From'], senha)\n",
        "  s.sendmail(msg['From'], [msg['To']], msg.as_string().encode('utf-8'))\n"
      ],
      "metadata": {
        "id": "U923YBucPf4w"
      },
      "execution_count": 9,
      "outputs": []
    },
    {
      "cell_type": "code",
      "source": [
        "import getpass\n",
        "\n",
        "lojas = bd['ID Loja'].unique()\n",
        "\n",
        "emailEmissor = str(input('Digite seu email: '))\n",
        "emailDestino = str(input('Digite o email alvo: '))\n",
        "senha = getpass.getpass(prompt='Digite a senha de seu email: ', stream=None)\n",
        "\n",
        "for loja in lojas:\n",
        "  tabela_loja = bd.loc[bd['ID Loja'] == loja, ['ID Loja', 'Quantidade', 'Valor Final']]\n",
        "  resumo_loja = tabela_loja.groupby( 'ID Loja').sum()\n",
        "  resumo_loja['Ticket Medio'] = resumo_loja['Valor Final'] / resumo_loja['Quantidade']\n",
        "\n",
        "  enviarEmail(resumo_loja, loja, senha, emailDestino, emailEmissor)\n",
        "\n",
        "tabela_diretoria = faturamento.join(qntLoja).join(TM)\n",
        "enviarEmail(tabela_diretoria, 'Todas as Lojas', senha, emailDestino, emailEmissor)"
      ],
      "metadata": {
        "id": "wSesh6N3U01m"
      },
      "execution_count": null,
      "outputs": []
    }
  ]
}